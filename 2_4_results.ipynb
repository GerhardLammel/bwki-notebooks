{
 "cells": [
  {
   "cell_type": "markdown",
   "metadata": {},
   "source": [
    "### Aufgabe 4\n",
    "\n",
    "_Toll, so langsam kriegst du einen guten Überblick über die Daten. Lass uns jetzt mal Zusammenhänge herstellen: Wie hoch ist denn die durchschnittliche Herzfrequenz der kranken Hunde? Um das herauszufinden, musst Du nur die Daten der Hunde aus dieser Gruppe abrufen. Um herauszufinden, welcher Hund krank ist, kannst Du die Daten wie folgt filtern:_\n",
    " \n",
    "```python\n",
    "D[D[:, 13] == 1]\n",
    "```\n",
    "\n",
    "_Weiterführende Informationen zu dieser Art von Filter findest du unter_ https://www.python-kurs.eu/python_numpy_maskierung.php."
   ]
  },
  {
   "cell_type": "code",
   "execution_count": 1,
   "metadata": {
    "collapsed": true
   },
   "outputs": [],
   "source": [
    "import numpy as np\n",
    "\n",
    "# Daten laden\n",
    "D = np.load('data/train_data.npy')"
   ]
  },
  {
   "cell_type": "code",
   "execution_count": 2,
   "metadata": {
    "collapsed": true
   },
   "outputs": [],
   "source": [
    "def average_heart_rate_for_pathologic_group(D):\n",
    "    \"\"\"Arithmetisches Mittel der Herzfrequenzen kranker Hunde.\n",
    "\n",
    "    Args:\n",
    "        D (numpy.ndarray): Datenmatrix:\n",
    "            - pro Hund eine Zeile (erster Index)\n",
    "            - pro Eigenschaft eine Spalte (zweiter Index)\n",
    "\n",
    "    Returns:\n",
    "        float: Mittlere Herzfrequenz kranker Hunde\n",
    "    \"\"\"\n",
    "    is_pathologic = D[:, -1] == 1\n",
    "    ahr = D[is_pathologic, 7].mean()\n",
    "    return ahr"
   ]
  },
  {
   "cell_type": "code",
   "execution_count": 3,
   "metadata": {},
   "outputs": [
    {
     "name": "stdout",
     "output_type": "stream",
     "text": [
      "130.769910933\n"
     ]
    }
   ],
   "source": [
    "print(average_heart_rate_for_pathologic_group(D))"
   ]
  },
  {
   "cell_type": "markdown",
   "metadata": {},
   "source": [
    "Wie hoch ist denn die durchschnittliche Herzfrequenz der gesunden Hunde? \n",
    "Gibt es einen Unterschied in der Herzfrequenz?"
   ]
  },
  {
   "cell_type": "code",
   "execution_count": 6,
   "metadata": {
    "collapsed": true
   },
   "outputs": [],
   "source": [
    "def average_heart_rate_for_healthy_group(D):\n",
    "\n",
    "    is_not_pathologic = D[:, -1] == 0\n",
    "    amhr = D[is_not_pathologic, 7].mean()\n",
    "    # return mean heart rate of healthy dogs\n",
    "    return amhr\n",
    "\n"
   ]
  },
  {
   "cell_type": "code",
   "execution_count": 7,
   "metadata": {},
   "outputs": [
    {
     "name": "stdout",
     "output_type": "stream",
     "text": [
      "157.36627907\n"
     ]
    }
   ],
   "source": [
    "print(average_heart_rate_for_healthy_group(D))"
   ]
  },
  {
   "cell_type": "code",
   "execution_count": 8,
   "metadata": {
    "collapsed": true
   },
   "outputs": [],
   "source": [
    "def difference_average_heart_rate(D):\n",
    "    amhr_diff = average_heart_rate_for_healthy_group(D) - average_heart_rate_for_pathologic_group(D)\n",
    "    # absolut Betrag der Differenz, damit kein negatives Ergebnis heraus kommt\n",
    "    amhr_diff = abs(amhr_diff)\n",
    "    # return difference in heart rate of sick and healthy dogs\n",
    "    return amhr_diff"
   ]
  },
  {
   "cell_type": "code",
   "execution_count": 10,
   "metadata": {},
   "outputs": [
    {
     "name": "stdout",
     "output_type": "stream",
     "text": [
      "26.5963681365\n"
     ]
    }
   ],
   "source": [
    "print(difference_average_heart_rate(D))"
   ]
  },
  {
   "cell_type": "code",
   "execution_count": null,
   "metadata": {
    "collapsed": true
   },
   "outputs": [],
   "source": []
  }
 ],
 "metadata": {
  "kernelspec": {
   "display_name": "Python 2",
   "language": "python",
   "name": "python2"
  },
  "language_info": {
   "codemirror_mode": {
    "name": "ipython",
    "version": 2
   },
   "file_extension": ".py",
   "mimetype": "text/x-python",
   "name": "python",
   "nbconvert_exporter": "python",
   "pygments_lexer": "ipython2",
   "version": "2.7.13"
  },
  "varInspector": {
   "cols": {
    "lenName": 16,
    "lenType": 16,
    "lenVar": 40
   },
   "kernels_config": {
    "python": {
     "delete_cmd_postfix": "",
     "delete_cmd_prefix": "del ",
     "library": "var_list.py",
     "varRefreshCmd": "print(var_dic_list())"
    },
    "r": {
     "delete_cmd_postfix": ") ",
     "delete_cmd_prefix": "rm(",
     "library": "var_list.r",
     "varRefreshCmd": "cat(var_dic_list()) "
    }
   },
   "types_to_exclude": [
    "module",
    "function",
    "builtin_function_or_method",
    "instance",
    "_Feature"
   ],
   "window_display": false
  }
 },
 "nbformat": 4,
 "nbformat_minor": 2
}
