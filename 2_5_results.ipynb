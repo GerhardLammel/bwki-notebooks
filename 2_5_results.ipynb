{
 "cells": [
  {
   "cell_type": "markdown",
   "metadata": {},
   "source": [
    "### Aufgabe 5\n",
    "\n",
    "_Interessant! Aber noch interessanter wird es, wenn wir uns mal ansehen, welchen Unterschied es in den mittleren Herzfrequenzen zwischen den gesunden und kranken Hunden gab. Kannst du das herausfinden?_"
   ]
  },
  {
   "cell_type": "code",
   "execution_count": 1,
   "metadata": {
    "collapsed": true
   },
   "outputs": [],
   "source": [
    "import numpy as np\n",
    "\n",
    "# Daten laden\n",
    "D = np.load('data/train_data.npy')"
   ]
  },
  {
   "cell_type": "code",
   "execution_count": 2,
   "metadata": {
    "collapsed": true
   },
   "outputs": [],
   "source": [
    "def avg_heart_rate(D, health):\n",
    "    x = 0\n",
    "    gezaehlte_hunde = 0\n",
    "    for hund in D:\n",
    "        if hund[13] == health:\n",
    "            x += hund[7]\n",
    "            gezaehlte_hunde += 1\n",
    "    mhr = x / gezaehlte_hunde\n",
    "    # return mean heart\n",
    "    return float(mhr)\n",
    "\n",
    "def difference_average_heart_rate(D):\n",
    "    \"\"\"Differenz der mittleren Herzfrequenzen kranker und gesunder Hunde.\n",
    "    Args:\n",
    "        D (numpy.ndarray): Datenmatrix:\n",
    "            - pro Hund eine Zeile (erster Index)\n",
    "            - pro Eigenschaft eine Spalte (zweiter Index)\n",
    "    Returns:\n",
    "        float: Differenz der mittleren Herzfrequenzen\n",
    "    \"\"\"\n",
    "    ahr_diff = abs(avg_heart_rate(D,1) - avg_heart_rate(D,0))\n",
    "    return float(ahr_diff)"
   ]
  },
  {
   "cell_type": "code",
   "execution_count": 3,
   "metadata": {},
   "outputs": [
    {
     "name": "stdout",
     "output_type": "stream",
     "text": [
      "26.5963681365\n"
     ]
    }
   ],
   "source": [
    "print(difference_average_heart_rate(D))"
   ]
  },
  {
   "cell_type": "code",
   "execution_count": null,
   "metadata": {
    "collapsed": true
   },
   "outputs": [],
   "source": []
  }
 ],
 "metadata": {
  "kernelspec": {
   "display_name": "Python 2",
   "language": "python",
   "name": "python2"
  },
  "language_info": {
   "codemirror_mode": {
    "name": "ipython",
    "version": 2
   },
   "file_extension": ".py",
   "mimetype": "text/x-python",
   "name": "python",
   "nbconvert_exporter": "python",
   "pygments_lexer": "ipython2",
   "version": "2.7.13"
  },
  "varInspector": {
   "cols": {
    "lenName": 16,
    "lenType": 16,
    "lenVar": 40
   },
   "kernels_config": {
    "python": {
     "delete_cmd_postfix": "",
     "delete_cmd_prefix": "del ",
     "library": "var_list.py",
     "varRefreshCmd": "print(var_dic_list())"
    },
    "r": {
     "delete_cmd_postfix": ") ",
     "delete_cmd_prefix": "rm(",
     "library": "var_list.r",
     "varRefreshCmd": "cat(var_dic_list()) "
    }
   },
   "types_to_exclude": [
    "module",
    "function",
    "builtin_function_or_method",
    "instance",
    "_Feature"
   ],
   "window_display": false
  }
 },
 "nbformat": 4,
 "nbformat_minor": 2
}
