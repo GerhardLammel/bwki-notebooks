{
 "cells": [
  {
   "cell_type": "markdown",
   "metadata": {},
   "source": [
    "Das ist ein sogenanntes Jupyter Notebook. Hier kannst du Code direkt im Browser ausführen ohne lokal etwas installieren zu müssen. Du siehst hier eine Mischung aus Text und Code. Die Code Zeilen kannst du mit Shift + Entern ausführen. Ein Youtube Tutorial zur Nutzung dieser Notebooks findest du z.B. hier: https://www.youtube.com/watch?v=tpLk-FC9kHI."
   ]
  },
  {
   "cell_type": "markdown",
   "metadata": {},
   "source": [
    "Mit folgendem Befehl laden wir die Numpy Bibliothek um numerische Berechnungen durchführen zu können. Mehr Informationen zu dieser Bibliothek erhältst du auf https://docs.scipy.org/doc/numpy/user/quickstart.html"
   ]
  },
  {
   "cell_type": "code",
   "execution_count": 1,
   "metadata": {},
   "outputs": [],
   "source": [
    "import numpy as np"
   ]
  },
  {
   "cell_type": "markdown",
   "metadata": {},
   "source": [
    "Jetzt laden wir die Daten"
   ]
  },
  {
   "cell_type": "code",
   "execution_count": 2,
   "metadata": {},
   "outputs": [],
   "source": [
    "D = np.load('data/train_data.npy')"
   ]
  },
  {
   "cell_type": "markdown",
   "metadata": {},
   "source": [
    "$D$ ist eine Matrix mit folgender Größe"
   ]
  },
  {
   "cell_type": "code",
   "execution_count": 3,
   "metadata": {},
   "outputs": [
    {
     "name": "stdout",
     "output_type": "stream",
     "text": [
      "(426, 14)\n"
     ]
    }
   ],
   "source": [
    "print(D.shape)"
   ]
  },
  {
   "cell_type": "markdown",
   "metadata": {},
   "source": [
    "D.h. wir haben Daten von insgesamt 426 Tieren bei denen jeweils 14 Eigenschaften gemessen wurden:\n",
    "\n",
    "* Alter\n",
    "* Geschlecht\n",
    "* Würmer (0 = keine, 1 = Typ I, 2 = Typ II, 3 = Typ I + II)\n",
    "* Ruhender Blutdruck\n",
    "* Cholesterinspiegel (in mg/dl)\n",
    "* Nüchtern-Blutzuckerspiegel > 120 mg/dl (1 = hoch; 0 = niedrig)\n",
    "* Ruhende elektrokardiographische Ergebnisse (0 = normal, 1 = ST-T Abnormalität, 2 = linke ventrikuläre Hypertrophie)\n",
    "* Maximale Herzrate\n",
    "* Durch Bewegung verursachte Angina pectoris (1 = Ja; 0 = Nein) \n",
    "* ST-Depression, die durch Bewegung in Bezug auf die Ruhephase hervorgerufen wird (ein Marker im ECG).\n",
    "* Die maximale Steigung des ST-Segments bei Bewegung\n",
    "* Anzahl der großen Gefäße (0-3), aufgenommen durch Ultraschall\n",
    "* Blutfluss im Herz (3 = normal; 6 = fixer defekt; 7 = reversibler defekt )\n",
    "* Diagnose (1 = krank, 0 = gesund) "
   ]
  },
  {
   "cell_type": "markdown",
   "metadata": {},
   "source": [
    "Du möchtest wissen, welches Alter Oskar hat? Dann schreibst du einfach:"
   ]
  },
  {
   "cell_type": "code",
   "execution_count": 4,
   "metadata": {},
   "outputs": [
    {
     "name": "stdout",
     "output_type": "stream",
     "text": [
      "13.0\n"
     ]
    }
   ],
   "source": [
    "print(D[0, 0])"
   ]
  },
  {
   "cell_type": "markdown",
   "metadata": {},
   "source": [
    "Du kannst dir die Altersverteilung auch als Histogram plotten:"
   ]
  },
  {
   "cell_type": "code",
   "execution_count": 12,
   "metadata": {},
   "outputs": [
    {
     "name": "stdout",
     "output_type": "stream",
     "text": [
      "Populating the interactive namespace from numpy and matplotlib\n"
     ]
    },
    {
     "data": {
      "image/png": "[encoded data removed]",
      "text/plain": [
       "<matplotlib.figure.Figure at 0x7f71d6ef6fd0>"
      ]
     },
     "metadata": {},
     "output_type": "display_data"
    }
   ],
   "source": [
    "%pylab inline\n",
    "hist(D[:, 0])\n",
    "show()"
   ]
  },
  {
   "cell_type": "markdown",
   "metadata": {},
   "source": [
    "Schaue dir die Daten genau an um ein Gefühl für ihre Verteilungen zu bekommen. Die Lösung der Aufgabe ist dann ganz einfach."
   ]
  }
 ],
 "metadata": {
  "kernelspec": {
   "display_name": "Python 3",
   "language": "python",
   "name": "python3"
  },
  "language_info": {
   "codemirror_mode": {
    "name": "ipython",
    "version": 3
   },
   "file_extension": ".py",
   "mimetype": "text/x-python",
   "name": "python",
   "nbconvert_exporter": "python",
   "pygments_lexer": "ipython3",
   "version": "3.6.3"
  },
  "varInspector": {
   "cols": {
    "lenName": 16,
    "lenType": 16,
    "lenVar": 40
   },
   "kernels_config": {
    "python": {
     "delete_cmd_postfix": "",
     "delete_cmd_prefix": "del ",
     "library": "var_list.py",
     "varRefreshCmd": "print(var_dic_list())"
    },
    "r": {
     "delete_cmd_postfix": ") ",
     "delete_cmd_prefix": "rm(",
     "library": "var_list.r",
     "varRefreshCmd": "cat(var_dic_list()) "
    }
   },
   "types_to_exclude": [
    "module",
    "function",
    "builtin_function_or_method",
    "instance",
    "_Feature"
   ],
   "window_display": false
  }
 },
 "nbformat": 4,
 "nbformat_minor": 2
}
