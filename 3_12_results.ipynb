{
 "cells": [
  {
   "cell_type": "markdown",
   "metadata": {},
   "source": [
    "### Aufgabe 17\n",
    "\n",
    "Jetzt haben wir nur noch ein Ziel: Genauer werden. Und noch genauer. Und noch genauer. Schließlich geht es um die Gesundheit der Streuner. Wir müssen unser Modell mit dem Gradientenverfahren also weiter verbessern, bis wir mit der Genauigkeit zufrieden sind. Aber wann können wir zufrieden sein? Je länger das Modell trainiert, desto genauer wird es. Irgendwann kann es nicht mehr genauer werden. Und das ist der Punkt an dem wir aufhören können, unsere Parameter zu verbessern. Du kannst also nach jedem Schritt schauen, wie stark sich die Kosten des Gradientenverfahrens verringert haben. Wenn es keinen Unterschied mehr gibt, können wir den Algorithmus beenden (Abbruchbedingung).\n",
    "\n",
    "Deine nächste Aufgabe ist es, eine Schleife einzubauen, in der du bei jeder Wiederholung ein Schritt des Gradientenverfahrens durchführst. Führe sie solange aus, bis deine Abbruchbedingung erfüllt ist. Damit du nicht in einer Endlos-Schleife hängen bleibst, nutzt du am besten eine for-Schleife mit einer maximale Anzahl von Schritten."
   ]
  },
  {
   "cell_type": "code",
   "execution_count": 1,
   "metadata": {
    "collapsed": true
   },
   "outputs": [],
   "source": [
    "import numpy as np\n",
    "\n",
    "# Daten laden\n",
    "D = np.load('data/train_data.npy')"
   ]
  },
  {
   "cell_type": "code",
   "execution_count": 2,
   "metadata": {},
   "outputs": [],
   "source": [
    "def sigmoid(x):\n",
    "    s = 1./(1. + np.exp(-x))\n",
    "    return s\n",
    "\n",
    "def p(X, w):\n",
    "    l = np.dot(X, w)\n",
    "    v = sigmoid(l)\n",
    "    return v\n",
    "\n",
    "def derivative(X, Y, w):\n",
    "    d = np.mean((p(X, w) - Y)[:, None] * X, axis=0)\n",
    "    return d\n",
    "\n",
    "def accuracy(Y, Y_hat):\n",
    "    return np.mean(Y == Y_hat)\n",
    "\n",
    "def cost(predictions, labels):\n",
    "    predictions[predictions==0] = 1e-16\n",
    "    predictions[predictions==1] = 1.-1e-16\n",
    "    c = np.mean(-(labels*np.log(predictions)\n",
    "          + (1-labels)*np.log(1-predictions)))\n",
    "    return c\n",
    "\n",
    "def step(D, w, alpha):\n",
    "    X = np.ones((D.shape[0], D.shape[1]))\n",
    "    X[:, 1:] = D[:, :-1]\n",
    "    Y = D[:, -1]\n",
    "    d_w = derivative(X, Y, w)\n",
    "    w_new = w - alpha * d_w\n",
    "    return w_new\n",
    "\n",
    "\n",
    "def optimize(D):\n",
    "    w = np.random.normal(size=14)*0.01\n",
    "    alpha = 0.0001\n",
    "\n",
    "    X = np.ones((D.shape[0], D.shape[1]))\n",
    "    X[:, 1:] = D[:, :-1]\n",
    "\n",
    "    last_cost = np.inf\n",
    "    for i in range(50000):\n",
    "        w = step(D, w=w, alpha=alpha)\n",
    "        current_cost = cost(p(X, w), D[:, -1])\n",
    "        if ((last_cost - current_cost) < 1e-6):\n",
    "            break\n",
    "        last_cost = current_cost\n",
    "    Y_hat = (p(X, w) > 0.5)\n",
    "    print(\"DONE\", i, accuracy(D[:, -1], Y_hat))\n",
    "    return Y_hat"
   ]
  },
  {
   "cell_type": "code",
   "execution_count": null,
   "metadata": {
    "collapsed": true
   },
   "outputs": [],
   "source": []
  }
 ],
 "metadata": {
  "kernelspec": {
   "display_name": "Python 2",
   "language": "python",
   "name": "python2"
  },
  "language_info": {
   "codemirror_mode": {
    "name": "ipython",
    "version": 2
   },
   "file_extension": ".py",
   "mimetype": "text/x-python",
   "name": "python",
   "nbconvert_exporter": "python",
   "pygments_lexer": "ipython2",
   "version": "2.7.13"
  },
  "varInspector": {
   "cols": {
    "lenName": 16,
    "lenType": 16,
    "lenVar": 40
   },
   "kernels_config": {
    "python": {
     "delete_cmd_postfix": "",
     "delete_cmd_prefix": "del ",
     "library": "var_list.py",
     "varRefreshCmd": "print(var_dic_list())"
    },
    "r": {
     "delete_cmd_postfix": ") ",
     "delete_cmd_prefix": "rm(",
     "library": "var_list.r",
     "varRefreshCmd": "cat(var_dic_list()) "
    }
   },
   "types_to_exclude": [
    "module",
    "function",
    "builtin_function_or_method",
    "instance",
    "_Feature"
   ],
   "window_display": false
  }
 },
 "nbformat": 4,
 "nbformat_minor": 2
}
