{
 "cells": [
  {
   "cell_type": "markdown",
   "metadata": {},
   "source": [
    "### Aufgabe 13\n",
    "\n",
    "_So langsam läuft es. Um die Software zuverlässiger zu machen und die Hunde noch besser untersuchen zu können, kannst du unser Beispiel noch auf weitere Merkmale verallgemeinern (z.B. ST-Depression). Dazu schreiben wir wieder:_\n",
    "```python\n",
    "p = sigmoid(w1 * heart_rate + w2 * st_depression + b)\n",
    "```\n",
    "\n",
    "Um unseren Code moeglichst kompakt zu schreiben verwenden wir wieder die Vektor schreibweise:\n",
    "\n",
    "$$\\vec{p} = \\operatorname{sigmoid}\\left(\\mathbf{X}\\vec{w} \\right)$$\n",
    "\n",
    "\n",
    "Die Daten \\\\(\\mathbf{X}\\\\) liegen wie in der letzten Aufgabe wieder in Matrixform (samples x features) vor. \\\\(\\vec{w}\\\\) ist hier wieder ein Vektor( \\\\(\\vec{w}=[w_1, w_2]\\\\) ) mit den Gewichten fuer die Herzfrequenz und ST-Depression)"
   ]
  },
  {
   "cell_type": "code",
   "execution_count": 1,
   "metadata": {
    "collapsed": true
   },
   "outputs": [],
   "source": [
    "import numpy as np\n",
    "\n",
    "# Daten laden\n",
    "D = np.load('data/train_data.npy')"
   ]
  },
  {
   "cell_type": "code",
   "execution_count": 2,
   "metadata": {},
   "outputs": [],
   "source": [
    "def sigmoid(x):\n",
    "    \"\"\"Sigmoid Funktion\n",
    "    Args:\n",
    "        x (np.ndmatrix): Werte auf den die Sigmoid-Funktion angewendet wird\n",
    "    Returns:\n",
    "         np.array: Transformierte Werte.\n",
    "    Note:\n",
    "        Verwende die np.exp Funktion.\n",
    "    \"\"\"\n",
    "    sigm = 1./(1.+np.exp(-x))\n",
    "    return sigm\n",
    "\n",
    "\n",
    "def p(D, w1, w2, b):\n",
    "    \"\"\"Wahrscheinlichkeit dass ein Hunde krank ist für alle Hunde gleichzeitig.\n",
    "    Args:\n",
    "        D (numpy.ndarray): Datenmatrix:\n",
    "            - pro Hund eine Zeile (erster Index)\n",
    "            - pro Eigenschaft eine Spalte (zweiter Index)\n",
    "        w1 (float): Gewichtet die Herzfrequenz.\n",
    "        w2 (float): Gewichtet die ST-Depression.\n",
    "        b (float): Verschiebung zur Unterscheidung des Gesundheitszustands.\n",
    "    Returns:\n",
    "        numpy.ndarray: Vektor:\n",
    "            - pro Hund ein Wert:\n",
    "                0 bedeutet, der Hund ist gesund,\n",
    "                1 bedeutet, der Hund ist krank.\n",
    "    Note:\n",
    "        In dieser Aufgabe bitte mit einem Matrix-Vektor-Produkt auskommen.\n",
    "    \"\"\"\n",
    "    w = np.array([w1, w2])\n",
    "    # prob = sigmoid(np.dot([D[:, 7], D[:, 9]], w) + b)\n",
    "    prob = sigmoid(np.dot(D[:, [7, 9]], w) + b)\n",
    "    return prob"
   ]
  },
  {
   "cell_type": "code",
   "execution_count": null,
   "metadata": {
    "collapsed": true
   },
   "outputs": [],
   "source": []
  }
 ],
 "metadata": {
  "kernelspec": {
   "display_name": "Python 2",
   "language": "python",
   "name": "python2"
  },
  "language_info": {
   "codemirror_mode": {
    "name": "ipython",
    "version": 2
   },
   "file_extension": ".py",
   "mimetype": "text/x-python",
   "name": "python",
   "nbconvert_exporter": "python",
   "pygments_lexer": "ipython2",
   "version": "2.7.13"
  },
  "varInspector": {
   "cols": {
    "lenName": 16,
    "lenType": 16,
    "lenVar": 40
   },
   "kernels_config": {
    "python": {
     "delete_cmd_postfix": "",
     "delete_cmd_prefix": "del ",
     "library": "var_list.py",
     "varRefreshCmd": "print(var_dic_list())"
    },
    "r": {
     "delete_cmd_postfix": ") ",
     "delete_cmd_prefix": "rm(",
     "library": "var_list.r",
     "varRefreshCmd": "cat(var_dic_list()) "
    }
   },
   "types_to_exclude": [
    "module",
    "function",
    "builtin_function_or_method",
    "instance",
    "_Feature"
   ],
   "window_display": false
  }
 },
 "nbformat": 4,
 "nbformat_minor": 2
}
