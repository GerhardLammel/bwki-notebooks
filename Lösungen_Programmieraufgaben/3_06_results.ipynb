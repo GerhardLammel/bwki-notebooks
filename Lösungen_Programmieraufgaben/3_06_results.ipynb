{
 "cells": [
  {
   "cell_type": "markdown",
   "metadata": {},
   "source": [
    "### Aufgabe 11\n",
    "\n",
    "_Super, wir kommen der perfekten Software für die Untersuchung der Hunde mit großen Schritten näher! Jetzt sollten wir das Erreichte gekonnt festhalten – und zwar in der etwas eleganteren Vektorschreibweise:_\n",
    "\n",
    "$$p = sigmoid(w^T f + b)$$.\n",
    "\n",
    "_Dabei ist $w$ ein Vektor mit Gewichten (d.h. $w = [w1, w2]$) und $f$ ein Vektor mit features (z.B. $f = [heart_rate, st_depression]$). Um einen Vektor zu schreiben, nutzen wir die Numpy Funktion `np.array([w1, w2])`. Also los! Schreibe den Klassifikator in Vektorschreibweise um._"
   ]
  },
  {
   "cell_type": "code",
   "execution_count": null,
   "metadata": {
    "collapsed": true
   },
   "outputs": [],
   "source": [
    "import numpy as np\n",
    "\n",
    "# Daten laden\n",
    "D = np.load('data/train_data.npy')"
   ]
  },
  {
   "cell_type": "code",
   "execution_count": null,
   "metadata": {
    "collapsed": true
   },
   "outputs": [],
   "source": [
    "def sigmoid(x):\n",
    "    \"\"\"Sigmoid Funktion\n",
    "    Args:\n",
    "        x (float): Wert auf den die Sigmoid-Funktion angewendet wird\n",
    "\n",
    "    Returns:\n",
    "         float: Transformier Wert.\n",
    "    \"\"\"\n",
    "    return 1 / (1 + np.exp(-x))\n",
    "\n",
    "\n",
    "def p(features, w1, w2, b):\n",
    "    \"\"\"Wahrscheinlichkeit dass der Hund krank ist.\n",
    "\n",
    "    Args:\n",
    "        features (numpy.ndarray): Vektor mit den Eigenschaften eines Hundes:\n",
    "                - pro Eigenschaft ein Wert\n",
    "        w1 (float): Gewichtet die Herzfrequenz.\n",
    "        w2 (float): Gewichtet die ST Depression.\n",
    "        threshold (float): Grenzwert zum unterscheiden des Gesundheitszustands.\n",
    "\n",
    "        Returns:\n",
    "            float: 0 bedeutet, der Hund ist gesund,\n",
    "                1 bedeutet, der Hund ist krank.\n",
    "\n",
    "    \"\"\"\n",
    "    f = np.array([features[7], features[9]])\n",
    "    w = np.array([w1, w2])\n",
    "    prob = sigmoid(np.dot(f, w) + b)\n",
    "    return prob"
   ]
  }
 ],
 "metadata": {
  "kernelspec": {
   "display_name": "Python 2",
   "language": "python",
   "name": "python2"
  },
  "language_info": {
   "codemirror_mode": {
    "name": "ipython",
    "version": 2
   },
   "file_extension": ".py",
   "mimetype": "text/x-python",
   "name": "python",
   "nbconvert_exporter": "python",
   "pygments_lexer": "ipython2",
   "version": "2.7.13"
  },
  "varInspector": {
   "cols": {
    "lenName": 16,
    "lenType": 16,
    "lenVar": 40
   },
   "kernels_config": {
    "python": {
     "delete_cmd_postfix": "",
     "delete_cmd_prefix": "del ",
     "library": "var_list.py",
     "varRefreshCmd": "print(var_dic_list())"
    },
    "r": {
     "delete_cmd_postfix": ") ",
     "delete_cmd_prefix": "rm(",
     "library": "var_list.r",
     "varRefreshCmd": "cat(var_dic_list()) "
    }
   },
   "types_to_exclude": [
    "module",
    "function",
    "builtin_function_or_method",
    "instance",
    "_Feature"
   ],
   "window_display": false
  }
 },
 "nbformat": 4,
 "nbformat_minor": 2
}
