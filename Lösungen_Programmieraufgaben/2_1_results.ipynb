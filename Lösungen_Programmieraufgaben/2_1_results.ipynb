{
 "cells": [
  {
   "cell_type": "markdown",
   "metadata": {},
   "source": [
    "Das ist ein sogenanntes Jupyter Notebook. Hier kannst du Code direkt im Browser ausführen ohne lokal etwas installieren zu müssen. Du siehst hier eine Mischung aus Text und Code. Die Code Zeilen kannst du mit Shift + Entern ausführen. Ein Youtube Tutorial zur Nutzung dieser Notebooks findest du z.B. hier: https://www.youtube.com/watch?v=tpLk-FC9kHI.\n",
    "\n",
    "Eine gute aber dennoch kurze Einführung in Python findest du unter https://medium.com/the-renaissance-developer/learning-python-from-zero-to-hero-8ceed48486d5 (englisch)."
   ]
  },
  {
   "cell_type": "markdown",
   "metadata": {},
   "source": [
    "Mit folgendem Befehl laden wir die Numpy Bibliothek um numerische Berechnungen durchführen zu können. Mehr Informationen zu dieser Bibliothek erhältst du auf https://docs.scipy.org/doc/numpy/user/quickstart.html"
   ]
  },
  {
   "cell_type": "markdown",
   "metadata": {},
   "source": [
    "*Wenn du noch keine Erfahrung mit Python-Programmierung hast, kannst du auf dieser [Seite](https://www.w3schools.com/python/default.asp) die Grundlagen lernen.*"
   ]
  },
  {
   "cell_type": "markdown",
   "metadata": {},
   "source": [
    "Wenn entlaufene oder ausgesetzte Hunde Glück haben, kommen sie in ein Tierheim – oft unterernährt oder sogar krank. Ärzte untersuchen sie dort. Nicht selten umsonst, wenn der Hund gesund ist. Daher wollen wir die Ärzte entlasten: In Zukunft sollen Tierpfleger die Untersuchung durchführen können. Ärzte bräuchte man dann nur noch, wenn eine Behandlung nötig ist. Aber wie sollen die Pfleger eine Diagnose stellen? Hier kommst du ins Spiel: Denn du entwickelst eine Software, die gesunde von kranken Hunden unterscheidet – mit Künstlicher Intelligenz.\n",
    "\n",
    "Von allen bisher untersuchten Hunden liegt eine ärztliche Diagnose vor. Außerdem kennen wir verschiedene Faktoren wie Alter, Geschlecht, Blutdruck, maximale Herzrate, usw. Dank maschinellem Lernen können Computer Zusammenhänge zwischen den Daten und der Diagnose erkennen. Wenn ein Pfleger also die Daten eines neuen Hundes in deine Software eingibt, kann diese eine Prognose erstellen, ob der Hund gesund oder krank ist.\n",
    "\n",
    "Also, bist du bereit? Dann lass uns anfangen!\n",
    "\n",
    "Als erstes machen wir uns mal mit den Daten vertraut. Im unteren Fenster siehst du eine Funktion, die die Daten `D` als Argument übergeben bekommen hat. Insgesamt wurden 14 Eigenschaften gemessen – beginnend mit dem Alter. Um das Alter von Hund 1, Oskar, herauszufinden, musst du folgendes tun:\n",
    "\n",
    "```python\n",
    "alter = D[0, 0]\n",
    "```\n",
    "\n",
    "Der erste Index bezieht sich auf den Hund, der zweite Index auf das gemessene Merkmal. Beachte, dass die Indizierung in Python bei Null beginnt. Wenn Du also wissen möchtest, ob Oskar gesund oder krank ist, kannst Du dir das letzte Merkmal ausgeben lassen:\n",
    "\n",
    "```python\n",
    "gesundheitszustand = D[0, 13]\n",
    "```\n",
    "\n",
    "Und hier kommt deine erste Aufgabe: Finde heraus, was die Herzfrequenz (8. Merkmal) des 10. Hundes war."
   ]
  },
  {
   "cell_type": "code",
   "execution_count": 2,
   "metadata": {
    "collapsed": true
   },
   "outputs": [],
   "source": [
    "import numpy as np"
   ]
  },
  {
   "cell_type": "markdown",
   "metadata": {},
   "source": [
    "Jetzt laden wir die Daten"
   ]
  },
  {
   "cell_type": "code",
   "execution_count": 3,
   "metadata": {
    "collapsed": true
   },
   "outputs": [],
   "source": [
    "D = np.load('data/train_data.npy')"
   ]
  },
  {
   "cell_type": "markdown",
   "metadata": {},
   "source": [
    "$D$ ist eine Matrix mit folgender Größe"
   ]
  },
  {
   "cell_type": "code",
   "execution_count": 4,
   "metadata": {},
   "outputs": [
    {
     "name": "stdout",
     "output_type": "stream",
     "text": [
      "(426L, 14L)\n"
     ]
    }
   ],
   "source": [
    "print(D.shape)"
   ]
  },
  {
   "cell_type": "markdown",
   "metadata": {},
   "source": [
    "D.h. wir haben Daten von insgesamt 426 Tieren bei denen jeweils 14 Eigenschaften gemessen wurden:\n",
    "\n",
    "* Alter\n",
    "* Geschlecht\n",
    "* Würmer (0 = keine, 1 = Typ I, 2 = Typ II, 3 = Typ I + II)\n",
    "* Ruhender Blutdruck\n",
    "* Cholesterinspiegel (in mg/dl)\n",
    "* Nüchtern-Blutzuckerspiegel > 120 mg/dl (1 = hoch; 0 = niedrig)\n",
    "* Ruhende elektrokardiographische Ergebnisse (0 = normal, 1 = ST-T Abnormalität, 2 = linke ventrikuläre Hypertrophie)\n",
    "* Maximale Herzrate\n",
    "* Durch Bewegung verursachte Angina pectoris (1 = Ja; 0 = Nein) \n",
    "* ST-Depression, die durch Bewegung in Bezug auf die Ruhephase hervorgerufen wird (ein Marker im EKG).\n",
    "* Die maximale Steigung des ST-Segments bei Bewegung\n",
    "* Anzahl der großen Gefäße (0-3), aufgenommen durch Ultraschall\n",
    "* Blutfluss im Herz (3 = normal; 6 = fixer defekt; 7 = reversibler defekt )\n",
    "* Diagnose (1 = krank, 0 = gesund) "
   ]
  },
  {
   "cell_type": "markdown",
   "metadata": {},
   "source": [
    "Du möchtest wissen, welches Alter Oskar, der erste Hund in der Datenbank, hat? Dann schreibst du einfach:"
   ]
  },
  {
   "cell_type": "code",
   "execution_count": 5,
   "metadata": {},
   "outputs": [
    {
     "name": "stdout",
     "output_type": "stream",
     "text": [
      "13.0\n"
     ]
    }
   ],
   "source": [
    "print(D[0, 0])"
   ]
  },
  {
   "cell_type": "markdown",
   "metadata": {},
   "source": [
    "Du kannst dir die Altersverteilung auch als Histogram plotten:"
   ]
  },
  {
   "cell_type": "code",
   "execution_count": 6,
   "metadata": {},
   "outputs": [
    {
     "name": "stdout",
     "output_type": "stream",
     "text": [
      "Populating the interactive namespace from numpy and matplotlib\n"
     ]
    },
    {
     "data": {
      "image/png": "[encoded data removed]",
      "text/plain": [
       "<matplotlib.figure.Figure at 0x82504a8>"
      ]
     },
     "metadata": {},
     "output_type": "display_data"
    }
   ],
   "source": [
    "%pylab inline\n",
    "hist(D[:, 0])\n",
    "show()"
   ]
  },
  {
   "cell_type": "markdown",
   "metadata": {},
   "source": [
    "Schaue dir die Daten genau an um ein Gefühl für ihre Verteilungen zu bekommen. Die Lösung der Aufgabe ist dann ganz einfach."
   ]
  }
 ],
 "metadata": {
  "kernelspec": {
   "display_name": "Python 2",
   "language": "python",
   "name": "python2"
  },
  "language_info": {
   "codemirror_mode": {
    "name": "ipython",
    "version": 2
   },
   "file_extension": ".py",
   "mimetype": "text/x-python",
   "name": "python",
   "nbconvert_exporter": "python",
   "pygments_lexer": "ipython2",
   "version": "2.7.13"
  },
  "varInspector": {
   "cols": {
    "lenName": 16.0,
    "lenType": 16.0,
    "lenVar": 40.0
   },
   "kernels_config": {
    "python": {
     "delete_cmd_postfix": "",
     "delete_cmd_prefix": "del ",
     "library": "var_list.py",
     "varRefreshCmd": "print(var_dic_list())"
    },
    "r": {
     "delete_cmd_postfix": ") ",
     "delete_cmd_prefix": "rm(",
     "library": "var_list.r",
     "varRefreshCmd": "cat(var_dic_list()) "
    }
   },
   "types_to_exclude": [
    "module",
    "function",
    "builtin_function_or_method",
    "instance",
    "_Feature"
   ],
   "window_display": false
  }
 },
 "nbformat": 4,
 "nbformat_minor": 2
}
