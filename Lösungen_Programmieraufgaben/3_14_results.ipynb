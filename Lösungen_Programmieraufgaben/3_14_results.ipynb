{
 "cells": [
  {
   "cell_type": "markdown",
   "metadata": {},
   "source": [
    "##### Aufgabe 19\n",
    "\n",
    "Passt jetzt den linearen Klassifikator zu einem nicht-linearen Klassifikator an. Orientiert euch dabei an dem sogenannten Multi-Layer Perzeptron. Könnt ihr damit eine Genauigkeit von über 86% erreichen? Dabei könnte euch auch eine Anpassung des Optimierers helfen, z.B. mit Momentum."
   ]
  },
  {
   "cell_type": "code",
   "execution_count": 1,
   "metadata": {
    "collapsed": true
   },
   "outputs": [],
   "source": [
    "import numpy as np\n",
    "\n",
    "# Daten laden\n",
    "D = np.load('data/train_data.npy')"
   ]
  },
  {
   "cell_type": "code",
   "execution_count": 5,
   "metadata": {},
   "outputs": [
    {
     "ename": "ImportError",
     "evalue": "No module named torch",
     "output_type": "error",
     "traceback": [
      "\u001b[1;31m---------------------------------------------------------------------------\u001b[0m",
      "\u001b[1;31mImportError\u001b[0m                               Traceback (most recent call last)",
      "\u001b[1;32m<ipython-input-5-4c14b7aeede2>\u001b[0m in \u001b[0;36m<module>\u001b[1;34m()\u001b[0m\n\u001b[1;32m----> 1\u001b[1;33m \u001b[1;32mimport\u001b[0m \u001b[0mtorch\u001b[0m\u001b[1;33m\u001b[0m\u001b[0m\n\u001b[0m\u001b[0;32m      2\u001b[0m \u001b[1;33m\u001b[0m\u001b[0m\n\u001b[0;32m      3\u001b[0m \u001b[1;32mdef\u001b[0m \u001b[0mclassifier\u001b[0m\u001b[1;33m(\u001b[0m\u001b[0mD\u001b[0m\u001b[1;33m,\u001b[0m \u001b[0mD_test\u001b[0m\u001b[1;33m)\u001b[0m\u001b[1;33m:\u001b[0m\u001b[1;33m\u001b[0m\u001b[0m\n\u001b[0;32m      4\u001b[0m     \u001b[1;31m# konvertiere die Daten in einen Torch Tensor (getrennt in Eigenschaften und Labels)\u001b[0m\u001b[1;33m\u001b[0m\u001b[1;33m\u001b[0m\u001b[0m\n\u001b[0;32m      5\u001b[0m     \u001b[0mX\u001b[0m \u001b[1;33m=\u001b[0m \u001b[0mnp\u001b[0m\u001b[1;33m.\u001b[0m\u001b[0mhstack\u001b[0m\u001b[1;33m(\u001b[0m\u001b[1;33m[\u001b[0m\u001b[0mnp\u001b[0m\u001b[1;33m.\u001b[0m\u001b[0mones_like\u001b[0m\u001b[1;33m(\u001b[0m\u001b[0mD\u001b[0m\u001b[1;33m[\u001b[0m\u001b[1;33m:\u001b[0m\u001b[1;33m,\u001b[0m \u001b[1;36m0\u001b[0m\u001b[1;33m]\u001b[0m\u001b[1;33m)\u001b[0m\u001b[1;33m[\u001b[0m\u001b[1;33m:\u001b[0m\u001b[1;33m,\u001b[0m \u001b[0mNone\u001b[0m\u001b[1;33m]\u001b[0m\u001b[1;33m,\u001b[0m \u001b[0mD\u001b[0m\u001b[1;33m[\u001b[0m\u001b[1;33m:\u001b[0m\u001b[1;33m,\u001b[0m \u001b[1;33m:\u001b[0m\u001b[1;33m-\u001b[0m\u001b[1;36m1\u001b[0m\u001b[1;33m]\u001b[0m\u001b[1;33m]\u001b[0m\u001b[1;33m)\u001b[0m\u001b[1;33m\u001b[0m\u001b[0m\n",
      "\u001b[1;31mImportError\u001b[0m: No module named torch"
     ]
    }
   ],
   "source": [
    "import torch\n",
    "\n",
    "def classifier(D, D_test):\n",
    "    # konvertiere die Daten in einen Torch Tensor (getrennt in Eigenschaften und Labels)\n",
    "    X = np.hstack([np.ones_like(D[:, 0])[:, None], D[:, :-1]])\n",
    "    X = torch.from_numpy(X).float()\n",
    "    y = torch.from_numpy(D[:, -1]).float()\n",
    "\n",
    "    # definiere die Parameter\n",
    "    w = torch.randn(14, requires_grad=True)\n",
    "\n",
    "    # definiere die Kostenfunktion\n",
    "    criterion = torch.nn.BCEWithLogitsLoss()\n",
    "\n",
    "    # definiere den Gradientabstieg\n",
    "    optimizer = torch.optim.SGD([w], lr=0.0001, momentum=0.9)\n",
    "\n",
    "    for i in range(1000):   # loop over the dataset multiple times\n",
    "\n",
    "        # Stelle sicher, dass keine Gradienten aus vorherigen Schritten gecached sind.\n",
    "        optimizer.zero_grad()\n",
    "\n",
    "        # Berechne den Output von deinem Modell\n",
    "        # Diesmal ohne Sigmoid, das ist bei Torch in der Kostenfunktion bereits enthalten\n",
    "        outputs = torch.matmul(X, w)\n",
    "\n",
    "        # Wert der Kostenfunktion\n",
    "        kosten = criterion(outputs, y)\n",
    "\n",
    "        # Berechne die Gradienten für die Parameter\n",
    "        kosten.backward()\n",
    "\n",
    "        # Ändere die Parameter in Richtung der Gradienten\n",
    "        optimizer.step()\n",
    "\n",
    "        # Vorhergesagte labels\n",
    "        yhat = outputs.detach().numpy() > 0\n",
    "\n",
    "        # Messe die Genauigkeit des Klassifikators\n",
    "        acc = np.mean(yhat == y.numpy())\n",
    "\n",
    "        #print(f'Iteration {i}: Kosten {kosten.item()}, Genauigkeit {acc}')\n",
    "        print(\"Iteration {}: Kosten {}, Genauigkeit {}\" .format(i, kosten.item(), acc))\n",
    "        \n",
    "    # am Ende versuchen wir die Datenpunkte in D_test zu klassifizieren und auszugeben\n",
    "    X_test = np.hstack([np.ones_like(D_test[:, 0])[:, None], D_test])\n",
    "    X_test = torch.from_numpy(X_test).float()\n",
    "    outputs_test = torch.matmul(X_test, w)\n",
    "    \n",
    "    labels_test = outputs_test.numpy() > 0\n",
    "    \n",
    "    return labels_test"
   ]
  },
  {
   "cell_type": "code",
   "execution_count": null,
   "metadata": {
    "collapsed": true
   },
   "outputs": [],
   "source": []
  }
 ],
 "metadata": {
  "kernelspec": {
   "display_name": "Python 2",
   "language": "python",
   "name": "python2"
  },
  "language_info": {
   "codemirror_mode": {
    "name": "ipython",
    "version": 2
   },
   "file_extension": ".py",
   "mimetype": "text/x-python",
   "name": "python",
   "nbconvert_exporter": "python",
   "pygments_lexer": "ipython2",
   "version": "2.7.13"
  },
  "varInspector": {
   "cols": {
    "lenName": 16,
    "lenType": 16,
    "lenVar": 40
   },
   "kernels_config": {
    "python": {
     "delete_cmd_postfix": "",
     "delete_cmd_prefix": "del ",
     "library": "var_list.py",
     "varRefreshCmd": "print(var_dic_list())"
    },
    "r": {
     "delete_cmd_postfix": ") ",
     "delete_cmd_prefix": "rm(",
     "library": "var_list.r",
     "varRefreshCmd": "cat(var_dic_list()) "
    }
   },
   "types_to_exclude": [
    "module",
    "function",
    "builtin_function_or_method",
    "instance",
    "_Feature"
   ],
   "window_display": false
  }
 },
 "nbformat": 4,
 "nbformat_minor": 2
}
