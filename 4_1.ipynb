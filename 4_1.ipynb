{
 "cells": [
  {
   "cell_type": "markdown",
   "metadata": {},
   "source": [
    "Okay, hat es da jemand zu gut gemeint? Das wollen wir jetzt prüfen! Erinnerst du dich? Bei den Quiz-Fragen hast du dich schon mal mit dem Begriff Overfitting (Überanpassung) beschäftigt – ein wichtiges Konzept im Bereich des Maschinellen Lernens. Es hilft dir dabei herauszufinden, ob ein multivariates Modell nur für die Daten aussagekräftig ist, auf denen die Parameter angepasst wurden. Bekommt das Modell neue Daten, kann es sein, dass es komplett falsche Ergebnisse liefert. Es generalisiert dann nicht.\n",
    "\n",
    "In unserem Fall könnte es sein, dass der Klassifizierer zwar ganz gute Ergebnisse für die Hunde liefert, die wir bisher diagnostiziert haben. Sobald aber eine andere Hunderasse ins Tierheim kommt, wäre es möglich, dass der Algorithmus Fehler macht. Um das auszuschließen, musst du dein Modell auf einen Teil der vorhandenen Daten trainieren – und es dann anhand der restlichen Daten testen. Erst dann weißt du, wie gut das Modell die Gesundheit von neuen Hunden vorhersagen kann.\n",
    "\n",
    "Also, lass uns loslegen: Am besten teilst du den Datensatz in einen Trainingsdatensatz, auf dem wir das Modell trainieren, und einen Testdatensatz, auf dem wir das Modell testen. Beachte: Wichtig ist, dass unser Modell während des Trainings – also während die Parameter optimiert werden – kein Zugriff auf die Testdaten hat. Nur dann können wir anhand der des Testdatensatzes herausfinden, wie gut das Modell Vorhersagen für neue Daten trifft.\n",
    "\n",
    "Teile jetzt die Daten in einen Trainings- und einen Testdatensatz auf. Nimm am besten die ersten 80% aller Daten für das Training, die restlichen 20% für den Testdatensatz.\n",
    "\n",
    "Diese Daten werden wir in den nächsten zwei Aufgaben benutzen, um deinen Algorithmus in einem professionellen Framework für Maschinelles Lernen (Pytorch) umzusetzen. Diese Aufgaben werden wir in den nächsten Tagen aktivieren. Danach bist du auch bereit für die Challenge.\n"
   ]
  },
  {
   "cell_type": "code",
   "execution_count": null,
   "metadata": {
    "collapsed": true
   },
   "outputs": [],
   "source": [
    "import numpy as np\n",
    "\n",
    "D = np.load('data/train_data.npy')"
   ]
  },
  {
   "cell_type": "code",
   "execution_count": null,
   "metadata": {
    "collapsed": true
   },
   "outputs": [],
   "source": [
    "def train_test_split(D):\n",
    "    train_data = ...\n",
    "    test_data = ...\n",
    "    return train_data, test_data\n"
   ]
  }
 ],
 "metadata": {
  "kernelspec": {
   "display_name": "Python 2",
   "language": "python",
   "name": "python2"
  },
  "language_info": {
   "codemirror_mode": {
    "name": "ipython",
    "version": 2
   },
   "file_extension": ".py",
   "mimetype": "text/x-python",
   "name": "python",
   "nbconvert_exporter": "python",
   "pygments_lexer": "ipython2",
   "version": "2.7.13"
  }
 },
 "nbformat": 4,
 "nbformat_minor": 2
}
