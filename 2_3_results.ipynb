{
 "cells": [
  {
   "cell_type": "markdown",
   "metadata": {},
   "source": [
    "### Aufgabe 3\n",
    "\n",
    "Eine Pflegerin möchte wissen, wie viele Hunde krank waren. Kannst du ihr dabei helfen?\n",
    "_Zur Erinnerung: das letzte erhobene Merkmal ist der Gesundheitszustand des jeweiligen Hundes. Damit du ein Bild der bisherigen Fälle bekommst, solltest du auch wissen, wie viele Hunde krank waren (0 = gesund, 1 = krank). Auch hier wieder ein kleiner Hinweis: Dazu musst du die Summe über die Letzte der 14 Spalten nehmen._"
   ]
  },
  {
   "cell_type": "code",
   "execution_count": 46,
   "metadata": {
    "collapsed": true
   },
   "outputs": [],
   "source": [
    "import numpy as np\n",
    "\n",
    "# Daten laden\n",
    "D = np.load('data/train_data.npy')"
   ]
  },
  {
   "cell_type": "code",
   "execution_count": 16,
   "metadata": {
    "collapsed": true
   },
   "outputs": [],
   "source": [
    "def n_pathologic_subjects(D):\n",
    "    \"\"\"Anzahl kranker (pathologischer) Hunde.\n",
    "\n",
    "    Args:\n",
    "        D (numpy.ndarray): Datenmatrix:\n",
    "            - pro Hund eine Zeile (erster Index)\n",
    "            - pro Eigenschaft eine Spalte (zweiter Index)\n",
    "\n",
    "    Returns:\n",
    "        float: Anzahl kranker Hunde.\n",
    "    \"\"\"\n",
    "    n_pathologic_subjects = D[:, -1].sum()\n",
    "    return n_pathologic_subjects"
   ]
  },
  {
   "cell_type": "code",
   "execution_count": 17,
   "metadata": {},
   "outputs": [
    {
     "name": "stdout",
     "output_type": "stream",
     "text": [
      "254.0\n"
     ]
    }
   ],
   "source": [
    "print(n_pathologic_subjects(D))\n"
   ]
  },
  {
   "cell_type": "markdown",
   "metadata": {},
   "source": [
    "Wenn du noch weiter üben möchtest, kannst du gern folgende Zusatz-Aufgaben lösen:"
   ]
  },
  {
   "cell_type": "markdown",
   "metadata": {},
   "source": [
    "Das Tierheim möchte wissen, wie viele Hunde im Tierheim waren und wie viele Hunde davon krank waren. Kannst du ihnen dabei helfen? Verwende dazu zum einen eine for-Schleife (https://www.python-kurs.eu/python3_for-schleife.php) und zum anderen die Funktion \"mean\" der numpy-Bibliothek: np.mean() (https://docs.scipy.org/doc/numpy-1.13.0/reference/generated/numpy.mean.htm)."
   ]
  },
  {
   "cell_type": "code",
   "execution_count": 33,
   "metadata": {
    "collapsed": true
   },
   "outputs": [],
   "source": [
    "def number_of_dogs(D):\n",
    "    \"\"\"Anzahl Hunde.\n",
    "    Args:\n",
    "        D (numpy.ndarray): Datenmatrix:\n",
    "            - pro Hund eine Zeile (erster Index)\n",
    "            - pro Eigenschaft eine Spalte (zweiter Index)\n",
    "    Returns:\n",
    "        float: Anzahl Hunde.\n",
    "    \"\"\"\n",
    "    num = len(D[:,])\n",
    "    # return number of dogs\n",
    "    return num\n",
    "\n"
   ]
  },
  {
   "cell_type": "code",
   "execution_count": 34,
   "metadata": {},
   "outputs": [
    {
     "name": "stdout",
     "output_type": "stream",
     "text": [
      "426\n"
     ]
    }
   ],
   "source": [
    "print(number_of_dogs(D))"
   ]
  },
  {
   "cell_type": "code",
   "execution_count": 37,
   "metadata": {
    "collapsed": true
   },
   "outputs": [],
   "source": [
    "def n_pathologic_subjects_forloop(D):\n",
    "    # use a for-loop to solve this task\n",
    "    n_path_subjects = 0\n",
    "    for i in range(0, len(D[:,])):\n",
    "        if D[i, 13] == 1:\n",
    "            n_path_subjects = n_path_subjects + 1\n",
    "    # return number of sick dogs\n",
    "    return n_path_subjects\n",
    "\n"
   ]
  },
  {
   "cell_type": "code",
   "execution_count": 38,
   "metadata": {},
   "outputs": [
    {
     "name": "stdout",
     "output_type": "stream",
     "text": [
      "254\n"
     ]
    }
   ],
   "source": [
    "print(n_pathologic_subjects_forloop(D))"
   ]
  },
  {
   "cell_type": "code",
   "execution_count": 40,
   "metadata": {
    "collapsed": true
   },
   "outputs": [],
   "source": [
    "def n_pathologic_subjects_numpy(D):\n",
    "    # use np.mean() to solve this task\n",
    "    n_path_subjects = np.mean(D[:, 13])*len(D[:,])\n",
    "    # return number of sick dogs\n",
    "    return n_path_subjects\n",
    "\n"
   ]
  },
  {
   "cell_type": "code",
   "execution_count": 41,
   "metadata": {},
   "outputs": [
    {
     "name": "stdout",
     "output_type": "stream",
     "text": [
      "254.0\n"
     ]
    }
   ],
   "source": [
    "print(n_pathologic_subjects_numpy(D))"
   ]
  },
  {
   "cell_type": "markdown",
   "metadata": {},
   "source": [
    "Ein Pfleger möchte wissen, was die durchschnittliche Herzfrequenz ist und welche Hunde eine höhere und welche eine niedrigere Herzfrequenz haben. Erstelle dazu ein Array (https://www.python-kurs.eu/numpy_arrays_erzeugen.php). In diesem Array soll True stehen, wenn die Herzfrequenz des Hundes mit dem selben Index unter der Herzfrequenz liegt, False wenn drüber. Dieser Link könnte dir helfen: https://www.python-kurs.eu/python_numpy_maskierung.php"
   ]
  },
  {
   "cell_type": "code",
   "execution_count": 42,
   "metadata": {
    "collapsed": true
   },
   "outputs": [],
   "source": [
    "def mean_heart_rate(D):\n",
    "\n",
    "    mhr = np.mean(D[:,7])\n",
    "    # return mean heart (mhr) rate of all dogs\n",
    "    return mhr\n",
    "\n"
   ]
  },
  {
   "cell_type": "code",
   "execution_count": 47,
   "metadata": {
    "collapsed": true
   },
   "outputs": [],
   "source": [
    "def below_mhr(D):\n",
    "    \n",
    "    num = number_of_dogs(D)\n",
    "    # initialize array with the length of number of dogs\n",
    "    below = np.ones((num), dtype=bool)\n",
    "    mhr = mean_heart_rate(D)\n",
    "    # Change values of array to True if dog's heart rate is below average, False if it is above\n",
    "    for i in range(0, num):\n",
    "        if D[i, 7]<=mhr:\n",
    "            below[i] = True\n",
    "        else:\n",
    "            below[i] = False\n",
    "            \n",
    "    # return an array with the length of number of dogs with boolean values\n",
    "    return below"
   ]
  },
  {
   "cell_type": "code",
   "execution_count": 48,
   "metadata": {},
   "outputs": [
    {
     "name": "stdout",
     "output_type": "stream",
     "text": [
      "[False  True  True False False False False False False False False False\n",
      " False False False False False False  True False False False False False\n",
      "  True False False  True False  True False False False False False False\n",
      "  True  True  True  True  True False False False False False  True  True\n",
      " False False False  True False False False  True False False False  True\n",
      " False False  True False  True False False False  True False False False\n",
      "  True False False False  True False False  True False False False False\n",
      " False False False  True False False False False False False False False\n",
      " False False False False False False False  True  True False False False\n",
      "  True  True False False False  True  True  True False False  True  True\n",
      " False False False  True False False  True  True False False False False\n",
      " False False False False  True  True  True False False False False  True\n",
      " False False  True False False False False  True False False  True  True\n",
      " False False False False False False False  True False False False False\n",
      " False  True  True  True False False  True  True False  True False False\n",
      " False False False False False False False  True False False False  True\n",
      " False  True  True  True  True False False  True False False False  True\n",
      " False False  True  True False False False False False False False False\n",
      " False False  True False False False False  True False False False False\n",
      "  True  True False  True  True  True False  True  True False False False\n",
      " False False False False  True  True False  True False  True  True  True\n",
      "  True False False False False  True False  True False False False False\n",
      "  True  True False  True False False  True  True  True  True False False\n",
      " False False False  True False False  True False False  True False False\n",
      " False False False False False False  True False  True  True  True  True\n",
      "  True False False  True False  True  True False False False  True False\n",
      "  True False False  True  True  True False  True  True  True  True  True\n",
      "  True False  True  True  True  True False  True  True  True  True False\n",
      " False  True  True  True  True  True  True  True  True  True  True  True\n",
      "  True  True  True False  True False False False  True  True  True  True\n",
      "  True  True  True False  True  True False  True  True  True  True False\n",
      "  True  True  True False  True  True  True  True False  True  True  True\n",
      "  True False  True  True  True  True  True  True  True  True False False\n",
      "  True  True  True  True  True  True  True False  True False  True  True\n",
      " False  True  True  True False  True  True  True  True  True  True  True\n",
      "  True  True False  True  True  True]\n"
     ]
    }
   ],
   "source": [
    "print(below_mhr(D))"
   ]
  },
  {
   "cell_type": "code",
   "execution_count": null,
   "metadata": {
    "collapsed": true
   },
   "outputs": [],
   "source": []
  }
 ],
 "metadata": {
  "kernelspec": {
   "display_name": "Python 2",
   "language": "python",
   "name": "python2"
  },
  "language_info": {
   "codemirror_mode": {
    "name": "ipython",
    "version": 2
   },
   "file_extension": ".py",
   "mimetype": "text/x-python",
   "name": "python",
   "nbconvert_exporter": "python",
   "pygments_lexer": "ipython2",
   "version": "2.7.13"
  },
  "varInspector": {
   "cols": {
    "lenName": 16,
    "lenType": 16,
    "lenVar": 40
   },
   "kernels_config": {
    "python": {
     "delete_cmd_postfix": "",
     "delete_cmd_prefix": "del ",
     "library": "var_list.py",
     "varRefreshCmd": "print(var_dic_list())"
    },
    "r": {
     "delete_cmd_postfix": ") ",
     "delete_cmd_prefix": "rm(",
     "library": "var_list.r",
     "varRefreshCmd": "cat(var_dic_list()) "
    }
   },
   "types_to_exclude": [
    "module",
    "function",
    "builtin_function_or_method",
    "instance",
    "_Feature"
   ],
   "window_display": false
  }
 },
 "nbformat": 4,
 "nbformat_minor": 2
}
