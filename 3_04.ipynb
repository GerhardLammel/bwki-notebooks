{
 "cells": [
  {
   "cell_type": "markdown",
   "metadata": {},
   "source": [
    "### Aufgabe 9\n",
    "\n",
    "_Jetzt zünden wir die nächste Stufe! Eben haben wir uns auf ein Merkmal – die Herzfrequenz der Hunde – beschränkt. Lass uns doch mal einen Blick auf zwei verschiedene Merkmale der geretteten Straßenhunde werfen. Dafür musst du wissen, wie man Informationen aus zwei Merkmalen kombinieren kann: Schau dir den Klassifikator mit einem Merkmal nochmal an. Du hättest ihn so bauen können:_\n",
    "\n",
    "```python\n",
    "if heart_rate > threshold:\n",
    "    class = 1  # pathologic\n",
    "else:\n",
    "    class = 0  # normal\n",
    "```\n",
    "\n",
    "_Das bedeutet: Wenn die Herzfrequenz über einem bestimmten Schwellenwert liegt, sagt der Klassifikator voraus, dass der Hund „krank“ ist. In allen anderen Fällen klassifiziert er „gesund“._\n",
    "\n",
    "_Nehmen wir mal an, du wolltest die Funktionsfähigkeit des Herzens als weiteres Merkmal für die Klassifizierung verwenden. Dann könntest du dafür einen ähnlichen Ansatz verwenden – nur mit der linearen Kombination aus der Herzfrequenz (8. Merkmal) und der ST-Senkung des EKGs (10. Merkmal). Implementiere einen linearen Klassifikator der sowohl die Herzfrequenz als auch die ST-Senkung verwendet._\n",
    "\n",
    "_Optionale Zusatzaufgabe: Kannst du Parameter `w1`, `w2` und `threshold` finden so dass der Klassifikator eine hohe Accuracy erreicht?_"
   ]
  },
  {
   "cell_type": "code",
   "execution_count": 1,
   "metadata": {},
   "outputs": [],
   "source": [
    "import numpy as np\n",
    "\n",
    "# Daten laden\n",
    "D = np.load('data/train_data.npy')"
   ]
  },
  {
   "cell_type": "code",
   "execution_count": 49,
   "metadata": {},
   "outputs": [],
   "source": [
    "def classifier(features, w1=# DEIN WERT, w2= # DEIN WERT, threshold=# DEIN WERT):\n",
    "    \"\"\"Klassifiziert jeden Hunde anhand der Herzfrequenz.\n",
    "\n",
    "        Args:\n",
    "            features (numpy.ndarray): Vektor mit den Eigenschaften eines Hundes:\n",
    "                - pro Eigenschaft ein Wert\n",
    "            w1 (float): Gewichtet die Herzfrequenz.\n",
    "            w2 (float): Gewichtet die ST Depression.\n",
    "            threshold (float): Grenzwert zum unterscheiden des Gesundheitszustands.\n",
    "\n",
    "        Returns:\n",
    "            int: 0 bedeutet, der Hund ist gesund,\n",
    "                1 bedeutet, der Hund ist krank.\n",
    "        \"\"\"\n",
    "    c = w1 * features[7] + w2 * features[9] < threshold\n",
    "    return c"
   ]
  },
  {
   "cell_type": "markdown",
   "metadata": {},
   "source": [
    "Fange am besten mit Werten w1, w2 und threshold an, die dem einfachen Klassifizierer mit der Herzfrequenz entsprechen. Von dort aus kannst du dann die Werte variieren um noch bessere Ergebnisse zu erhalten. Messe dann die Performanz deines Klassifikators mithilfe der Funktion aus Aufgabe 7. Du solltest mindestens 75% erreichen."
   ]
  },
  {
   "cell_type": "code",
   "execution_count": 52,
   "metadata": {},
   "outputs": [],
   "source": [
    "def accuracy(D, classifier):\n",
    "    pred = np.array([classifier(feature)\n",
    "                     for feature in D[:, :-1]])\n",
    "    acc = np.mean(D[:, -1] == pred)\n",
    "    return acc"
   ]
  },
  {
   "cell_type": "code",
   "execution_count": 56,
   "metadata": {},
   "outputs": [],
   "source": [
    "def classifier(features, w1=0.06, w2=-0.9, threshold=8):\n",
    "    \"\"\"Klassifiziert jeden Hunde anhand der Herzfrequenz.\n",
    "\n",
    "        Args:\n",
    "            features (numpy.ndarray): Vektor mit den Eigenschaften eines Hundes:\n",
    "                - pro Eigenschaft ein Wert\n",
    "            w1 (float): Gewichtet die Herzfrequenz.\n",
    "            w2 (float): Gewichtet die ST Depression.\n",
    "            threshold (float): Grenzwert zum unterscheiden des Gesundheitszustands.\n",
    "\n",
    "        Returns:\n",
    "            int: 0 bedeutet, der Hund ist gesund,\n",
    "                1 bedeutet, der Hund ist krank.\n",
    "        \"\"\"\n",
    "    c = w1 * features[7] + w2 * features[9] < threshold\n",
    "    return c"
   ]
  },
  {
   "cell_type": "code",
   "execution_count": 57,
   "metadata": {},
   "outputs": [
    {
     "data": {
      "text/plain": [
       "0.7699530516431925"
      ]
     },
     "execution_count": 57,
     "metadata": {},
     "output_type": "execute_result"
    }
   ],
   "source": [
    "accuracy(D, classifier)"
   ]
  },
  {
   "cell_type": "code",
   "execution_count": 54,
   "metadata": {},
   "outputs": [
    {
     "name": "stdout",
     "output_type": "stream",
     "text": [
      "-1.0\n",
      "-0.9591836734693877\n",
      "-0.9183673469387755\n",
      "-0.8775510204081632\n",
      "-0.8367346938775511\n",
      "-0.7959183673469388\n",
      "-0.7551020408163265\n",
      "-0.7142857142857143\n",
      "-0.6734693877551021\n",
      "-0.6326530612244898\n",
      "-0.5918367346938775\n",
      "-0.5510204081632654\n",
      "-0.5102040816326531\n",
      "-0.4693877551020409\n",
      "-0.4285714285714286\n",
      "-0.3877551020408164\n",
      "-0.34693877551020413\n",
      "-0.30612244897959184\n",
      "-0.26530612244897966\n",
      "-0.22448979591836737\n",
      "-0.1836734693877552\n",
      "-0.1428571428571429\n",
      "-0.10204081632653073\n",
      "-0.061224489795918435\n",
      "-0.020408163265306145\n",
      "0.020408163265306145\n",
      "0.06122448979591821\n",
      "0.755868544600939 0.06122448979591821 -1.0 8.16326530612245\n",
      "0.7535211267605634 0.06122448979591821 -0.9591836734693877 8.16326530612245\n",
      "0.7699530516431925 0.06122448979591821 -0.9183673469387755 8.16326530612245\n",
      "0.7629107981220657 0.06122448979591821 -0.8775510204081632 8.16326530612245\n",
      "0.7629107981220657 0.06122448979591821 -0.8367346938775511 8.16326530612245\n",
      "0.7605633802816901 0.06122448979591821 -0.7959183673469388 8.16326530612245\n",
      "0.7511737089201878 0.06122448979591821 -0.7551020408163265 8.16326530612245\n",
      "0.1020408163265305\n",
      "0.1428571428571428\n",
      "0.18367346938775508\n",
      "0.22448979591836715\n",
      "0.7511737089201878 0.22448979591836715 -1.0 32.6530612244898\n",
      "0.26530612244897944\n",
      "0.30612244897959173\n",
      "0.346938775510204\n",
      "0.3877551020408163\n",
      "0.4285714285714284\n",
      "0.46938775510204067\n",
      "0.510204081632653\n",
      "0.5510204081632653\n",
      "0.5918367346938773\n",
      "0.6326530612244896\n",
      "0.6734693877551019\n",
      "0.7142857142857142\n",
      "0.7551020408163265\n",
      "0.7959183673469385\n",
      "0.8367346938775508\n",
      "0.8775510204081631\n",
      "0.9183673469387754\n",
      "0.9591836734693877\n",
      "1.0\n"
     ]
    }
   ],
   "source": [
    "for w1 in linspace(-1, 1, 50):\n",
    "    print(w1)\n",
    "    for w2 in linspace(-1, 1, 50):\n",
    "        for threshold in linspace(0, 200, 50):\n",
    "            fix_classifier = lambda x: classifier(x, w1, w2, threshold)\n",
    "            acc = accuracy(D, fix_classifier)\n",
    "            \n",
    "            if acc > 0.75:\n",
    "                print(acc, w1, w2, threshold)"
   ]
  },
  {
   "cell_type": "code",
   "execution_count": null,
   "metadata": {},
   "outputs": [],
   "source": []
  }
 ],
 "metadata": {
  "kernelspec": {
   "display_name": "Python 3",
   "language": "python",
   "name": "python3"
  },
  "language_info": {
   "codemirror_mode": {
    "name": "ipython",
    "version": 3
   },
   "file_extension": ".py",
   "mimetype": "text/x-python",
   "name": "python",
   "nbconvert_exporter": "python",
   "pygments_lexer": "ipython3",
   "version": "3.6.3"
  },
  "varInspector": {
   "cols": {
    "lenName": 16,
    "lenType": 16,
    "lenVar": 40
   },
   "kernels_config": {
    "python": {
     "delete_cmd_postfix": "",
     "delete_cmd_prefix": "del ",
     "library": "var_list.py",
     "varRefreshCmd": "print(var_dic_list())"
    },
    "r": {
     "delete_cmd_postfix": ") ",
     "delete_cmd_prefix": "rm(",
     "library": "var_list.r",
     "varRefreshCmd": "cat(var_dic_list()) "
    }
   },
   "types_to_exclude": [
    "module",
    "function",
    "builtin_function_or_method",
    "instance",
    "_Feature"
   ],
   "window_display": false
  }
 },
 "nbformat": 4,
 "nbformat_minor": 2
}
