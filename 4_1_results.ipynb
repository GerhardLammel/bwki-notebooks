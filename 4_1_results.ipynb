{
 "cells": [
  {
   "cell_type": "markdown",
   "metadata": {},
   "source": [
    "Okay, hat es da jemand zu gut gemeint? Das wollen wir jetzt prüfen! Erinnerst du dich? Bei den Quiz-Fragen hast du dich schon mal mit dem Begriff Overfitting (Überanpassung) beschäftigt – ein wichtiges Konzept im Bereich des Maschinellen Lernens. Es hilft dir dabei herauszufinden, ob ein multivariates Modell nur für die Daten aussagekräftig ist, auf denen die Parameter angepasst wurden. Bekommt das Modell neue Daten, kann es sein, dass es komplett falsche Ergebnisse liefert. Es generalisiert dann nicht.\n",
    "\n",
    "In unserem Fall könnte es sein, dass der Klassifizierer zwar ganz gute Ergebnisse für die Hunde liefert, die wir bisher diagnostiziert haben. Sobald aber eine andere Hunderasse ins Tierheim kommt, wäre es möglich, dass der Algorithmus Fehler macht. Um das auszuschließen, musst du dein Modell auf einen Teil der vorhandenen Daten trainieren – und es dann anhand der restlichen Daten testen. Erst dann weißt du, wie gut das Modell die Gesundheit von neuen Hunden vorhersagen kann.\n",
    "\n",
    "Also, lass uns loslegen: Am besten teilst du den Datensatz in einen Trainingsdatensatz, auf dem wir das Modell trainieren, und einen Testdatensatz, auf dem wir das Modell testen. Beachte: Wichtig ist, dass unser Modell während des Trainings – also während die Parameter optimiert werden – kein Zugriff auf die Testdaten hat. Nur dann können wir anhand der des Testdatensatzes herausfinden, wie gut das Modell Vorhersagen für neue Daten trifft.\n",
    "\n",
    "Teile jetzt die Daten in einen Trainings- und einen Testdatensatz auf. Nimm am besten die ersten 80% aller Daten für das Training, die restlichen 20% für den Testdatensatz.\n",
    "\n",
    "Diese Daten werden wir in den nächsten zwei Aufgaben benutzen, um deinen Algorithmus in einem professionellen Framework für Maschinelles Lernen (Pytorch) umzusetzen. Diese Aufgaben werden wir in den nächsten Tagen aktivieren. Danach bist du auch bereit für die Challenge.\n"
   ]
  },
  {
   "cell_type": "code",
   "execution_count": 1,
   "metadata": {
    "collapsed": true
   },
   "outputs": [],
   "source": [
    "import numpy as np\n",
    "\n",
    "D = np.load('data/train_data.npy')"
   ]
  },
  {
   "cell_type": "code",
   "execution_count": 8,
   "metadata": {
    "collapsed": true
   },
   "outputs": [],
   "source": [
    "def train_test_split(D):\n",
    "    # erstelle ein boolean Train-Array\n",
    "    train_ix = np.random.random(size=D.shape[0]) < 0.8\n",
    "    # erstelle den Test-Array\n",
    "    test_ix = np.logical_not(train_ix)\n",
    "    # gebe die Trainings- und Testdaten zurück\n",
    "    train_data = D[train_ix]\n",
    "    test_data = D[test_ix]\n",
    "    return train_data, test_data\n"
   ]
  },
  {
   "cell_type": "code",
   "execution_count": 9,
   "metadata": {},
   "outputs": [
    {
     "name": "stdout",
     "output_type": "stream",
     "text": [
      "[ True False  True  True  True  True  True  True  True  True  True  True\n",
      "  True  True False  True  True False  True  True  True False  True  True\n",
      "  True  True False  True  True  True  True  True  True  True  True False\n",
      "  True False False  True  True  True  True  True  True  True False  True\n",
      "  True  True  True  True  True  True  True  True  True False  True  True\n",
      " False  True False  True  True  True False  True  True  True  True False\n",
      "  True False  True  True  True False  True  True  True False  True  True\n",
      "  True  True  True  True  True  True  True  True  True False False  True\n",
      "  True False  True  True False  True  True False  True  True  True  True\n",
      " False False False  True  True  True  True False  True  True  True  True\n",
      "  True  True  True False  True  True False False  True  True  True  True\n",
      "  True  True  True  True  True  True  True  True  True  True  True False\n",
      "  True  True  True  True  True  True  True False  True  True  True  True\n",
      "  True  True  True False  True False False  True  True  True  True  True\n",
      "  True  True  True  True  True  True False  True False  True  True  True\n",
      " False  True  True  True  True  True  True  True  True False  True False\n",
      "  True  True  True  True  True  True  True False  True False  True  True\n",
      " False  True False  True  True False  True False  True  True False  True\n",
      "  True  True False  True  True  True  True False  True  True  True False\n",
      "  True  True  True  True  True  True  True  True  True  True  True  True\n",
      "  True  True  True False  True  True False  True  True  True  True  True\n",
      "  True  True False  True  True  True  True  True False False  True  True\n",
      "  True  True  True  True False  True False  True  True  True  True  True\n",
      "  True  True  True  True  True False False False False  True  True  True\n",
      "  True  True  True False  True  True  True  True  True  True  True  True\n",
      "  True  True  True  True  True  True False False  True  True  True  True\n",
      " False  True False  True  True  True  True  True  True False  True  True\n",
      "  True  True False  True  True  True  True  True  True  True  True  True\n",
      "  True  True False  True False False  True  True  True  True  True False\n",
      "  True False  True False  True False  True  True  True  True False  True\n",
      "  True  True  True  True  True  True  True False  True  True False  True\n",
      "  True  True False  True  True False  True False  True  True  True  True\n",
      "  True  True  True  True False  True False False  True  True  True  True\n",
      " False  True  True  True  True  True  True  True  True  True  True  True\n",
      "  True False  True  True  True  True False  True  True  True  True  True\n",
      "  True  True  True  True  True  True]\n",
      "[False  True False False False False False False False False False False\n",
      " False False  True False False  True False False False  True False False\n",
      " False False  True False False False False False False False False  True\n",
      " False  True  True False False False False False False False  True False\n",
      " False False False False False False False False False  True False False\n",
      "  True False  True False False False  True False False False False  True\n",
      " False  True False False False  True False False False  True False False\n",
      " False False False False False False False False False  True  True False\n",
      " False  True False False  True False False  True False False False False\n",
      "  True  True  True False False False False  True False False False False\n",
      " False False False  True False False  True  True False False False False\n",
      " False False False False False False False False False False False  True\n",
      " False False False False False False False  True False False False False\n",
      " False False False  True False  True  True False False False False False\n",
      " False False False False False False  True False  True False False False\n",
      "  True False False False False False False False False  True False  True\n",
      " False False False False False False False  True False  True False False\n",
      "  True False  True False False  True False  True False False  True False\n",
      " False False  True False False False False  True False False False  True\n",
      " False False False False False False False False False False False False\n",
      " False False False  True False False  True False False False False False\n",
      " False False  True False False False False False  True  True False False\n",
      " False False False False  True False  True False False False False False\n",
      " False False False False False  True  True  True  True False False False\n",
      " False False False  True False False False False False False False False\n",
      " False False False False False False  True  True False False False False\n",
      "  True False  True False False False False False False  True False False\n",
      " False False  True False False False False False False False False False\n",
      " False False  True False  True  True False False False False False  True\n",
      " False  True False  True False  True False False False False  True False\n",
      " False False False False False False False  True False False  True False\n",
      " False False  True False False  True False  True False False False False\n",
      " False False False False  True False  True  True False False False False\n",
      "  True False False False False False False False False False False False\n",
      " False  True False False False False  True False False False False False\n",
      " False False False False False False]\n"
     ]
    },
    {
     "data": {
      "text/plain": [
       "(array([[ 13.        ,   1.        ,   1.        , ...,   0.        ,\n",
       "           6.        ,   0.        ],\n",
       "        [ 14.33333333,   1.        ,   4.        , ...,   2.        ,\n",
       "           7.        ,   1.        ],\n",
       "        [  4.33333333,   1.        ,   3.        , ...,   0.        ,\n",
       "           3.        ,   0.        ],\n",
       "        ..., \n",
       "        [ 16.        ,   1.        ,   3.        , ...,   2.        ,\n",
       "           5.78873239,   0.        ],\n",
       "        [ 16.33333333,   0.        ,   3.        , ...,   1.6       ,\n",
       "           3.        ,   1.        ],\n",
       "        [ 16.66666667,   1.        ,   2.        , ...,   1.6       ,\n",
       "           5.78873239,   1.        ]]),\n",
       " array([[ 14.33333333,   1.        ,   4.        , ...,   3.        ,\n",
       "           3.        ,   1.        ],\n",
       "        [  9.33333333,   1.        ,   3.        , ...,   0.        ,\n",
       "           7.        ,   0.        ],\n",
       "        [ 10.        ,   1.        ,   4.        , ...,   0.        ,\n",
       "           3.        ,   0.        ],\n",
       "        ..., \n",
       "        [ 12.66666667,   0.        ,   4.        , ...,   1.6       ,\n",
       "           5.78873239,   1.        ],\n",
       "        [ 13.33333333,   1.        ,   4.        , ...,   1.6       ,\n",
       "           5.78873239,   1.        ],\n",
       "        [ 14.        ,   0.        ,   4.        , ...,   1.6       ,\n",
       "           7.        ,   1.        ]]))"
      ]
     },
     "execution_count": 9,
     "metadata": {},
     "output_type": "execute_result"
    }
   ],
   "source": [
    "train_test_split(D)"
   ]
  },
  {
   "cell_type": "code",
   "execution_count": null,
   "metadata": {
    "collapsed": true
   },
   "outputs": [],
   "source": []
  }
 ],
 "metadata": {
  "kernelspec": {
   "display_name": "Python 2",
   "language": "python",
   "name": "python2"
  },
  "language_info": {
   "codemirror_mode": {
    "name": "ipython",
    "version": 2
   },
   "file_extension": ".py",
   "mimetype": "text/x-python",
   "name": "python",
   "nbconvert_exporter": "python",
   "pygments_lexer": "ipython2",
   "version": "2.7.13"
  }
 },
 "nbformat": 4,
 "nbformat_minor": 2
}
