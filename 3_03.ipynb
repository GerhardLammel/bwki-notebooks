{
 "cells": [
  {
   "cell_type": "markdown",
   "metadata": {},
   "source": [
    "### Aufgabe 8\n",
    "\n",
    "_Erinnerst du dich an vorhin? Da haben wir herausgefunden, dass es einen Unterschied in der Herzfrequenz zwischen der gesunden und der kranken Gruppe gibt. Kannst Du diesen Unterschied nutzen, um bessere Vorhersagen zu treffen? Versuche mal, deinen Klassifikator entsprechend anzupassen._\n",
    "\n",
    "\n",
    "Was ist der Schwellenwert für die Klassifizierung? Ein Schwellenwert trennt die Klassen voneinander: Werte die größer sind als der Schwellenwert gehören zu der einen, Werte die kleiner sind zu der anderen Klasse.\n",
    "\n",
    "In diesem Fall benutzen wir den Median und nicht den Mittelwert der Herzfrequenzen. Du kannst [hier](https://de.bettermarks.com/mathe/mittelwert-median-modus/) nachlesen, worin der Unterschied liegt.\n",
    "\n",
    "Hunde, die gesund sind, haben eine höhere Herzfrequenz als Hunde, die krank sind.\n",
    "\n",
    "Hinweis: Du kannst eine [if-Abfrage](https://www.python-kurs.eu/bedingte_anweisungen.php) verwenden."
   ]
  },
  {
   "cell_type": "code",
   "execution_count": 1,
   "metadata": {
    "collapsed": true
   },
   "outputs": [],
   "source": [
    "import numpy as np\n",
    "\n",
    "# Daten laden\n",
    "D = np.load('data/train_data.npy')"
   ]
  },
  {
   "cell_type": "code",
   "execution_count": 29,
   "metadata": {
    "collapsed": true
   },
   "outputs": [],
   "source": [
    "def heart_rate_based_classifier(features, schwellwert=# SETZE EINEN WERT EIN):\n",
    "    \"\"\"Klassifiziert jeden Hunde anhand der Herzfrequenz.\n",
    "\n",
    "    Args:\n",
    "        features (numpy.ndarray): Vektor mit den Eigenschaften eines Hundes:\n",
    "            - pro Eigenschaft ein Wert\n",
    "        schwellwert (float): Herzfrequenzgrenzwert zum unterscheiden des Gesundheitszustands.\n",
    "\n",
    "    Returns:\n",
    "        int: 0 bedeutet, der Hund ist gesund,\n",
    "            1 bedeutet, der Hund ist krank.\n",
    "    \"\"\"\n",
    "    c = # FÜGE DEINEN CODE HIER EIN\n",
    "    return c"
   ]
  },
  {
   "cell_type": "markdown",
   "metadata": {},
   "source": [
    "Nutze die Funktion aus der letzten Aufgabe um die Performanz deines Klassifikators zu testen und einen optimalen Schwellwert zu finden.\n",
    "\n",
    "Wie du im Programmcode sehen kannst, gibt die Funktion \"classifier_using_heartrate()\" diesmal eine Funktion zurück. Diese Funktion, \"heart_rate_based_classifier()\", musst du nun programmieren."
   ]
  },
  {
   "cell_type": "code",
   "execution_count": null,
   "metadata": {
    "collapsed": true
   },
   "outputs": [],
   "source": [
    "def classifier_using_heartrate(D):\n",
    "    \"\"\"Klassifizierer anhand der Herzfrequenz.\n",
    "    Args:\n",
    "        D (numpy.ndarray): Datenmatrix:\n",
    "            - pro Hund eine Zeile (erster Index)\n",
    "            - pro Eigenschaft eine Spalte (zweiter Index)\n",
    "    Returns:\n",
    "        function: Klassifiziert Vektoren mit Merkmalen.\n",
    "    \"\"\"\n",
    "    # Schwellenwert wird gesetzt\n",
    "    median_threshold = np.median(D[:, 7])\n",
    "\n",
    "    def heart_rate_based_classifier(features, threshold=median_threshold):\n",
    "        \"\"\"Klassifiziert jeden Hunde anhand der Herzfrequenz.\n",
    "        Args:\n",
    "            features (numpy.ndarray): Vektor mit den Eigenschaften eines Hundes:\n",
    "                - pro Eigenschaft ein Wert\n",
    "            threshold (float): Schwellenwert zum Unterscheiden des Gesundheitszustands.\n",
    "        Returns:\n",
    "            int: 0 bedeutet, der Hund ist gesund,\n",
    "                1 bedeutet, der Hund ist krank.\n",
    "        \"\"\"\n",
    "        c = ...\n",
    "        return c\n",
    "\n",
    "return heart_rate_based_classifier"
   ]
  }
 ],
 "metadata": {
  "kernelspec": {
   "display_name": "Python 2",
   "language": "python",
   "name": "python2"
  },
  "language_info": {
   "codemirror_mode": {
    "name": "ipython",
    "version": 2
   },
   "file_extension": ".py",
   "mimetype": "text/x-python",
   "name": "python",
   "nbconvert_exporter": "python",
   "pygments_lexer": "ipython2",
   "version": "2.7.13"
  },
  "varInspector": {
   "cols": {
    "lenName": 16,
    "lenType": 16,
    "lenVar": 40
   },
   "kernels_config": {
    "python": {
     "delete_cmd_postfix": "",
     "delete_cmd_prefix": "del ",
     "library": "var_list.py",
     "varRefreshCmd": "print(var_dic_list())"
    },
    "r": {
     "delete_cmd_postfix": ") ",
     "delete_cmd_prefix": "rm(",
     "library": "var_list.r",
     "varRefreshCmd": "cat(var_dic_list()) "
    }
   },
   "types_to_exclude": [
    "module",
    "function",
    "builtin_function_or_method",
    "instance",
    "_Feature"
   ],
   "window_display": false
  }
 },
 "nbformat": 4,
 "nbformat_minor": 2
}
